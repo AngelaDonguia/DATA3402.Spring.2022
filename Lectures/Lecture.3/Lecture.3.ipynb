{
 "cells": [
  {
   "cell_type": "markdown",
   "metadata": {},
   "source": [
    "# Lecture 3\n",
    "\n",
    "## Python Libraries (Review)\n",
    "\n",
    "One of the great things about python is the incredible libraries that are either already installed with python or easily to install. If you want to do something in python, you can probably find a library or a GitHub page that already does it. \n",
    "\n",
    "Two resources of libraries are:\n",
    "\n",
    "* [The Python Standard Library reference](https://docs.python.org/3.9/library/index.html): These packages are most likely already available in your python installation.\n",
    "* [PyPI Repository](https://pypi.org): These packages can be installed easily using the `pip install` command.\n",
    "\n",
    "### `import`\n",
    "\n",
    "Jupyter notebooks execute code when a code cell is \"run\". You can run all of the cells sequentially, or manually run specific cells. All of our variable assignments and function definitions are executed in the python interperter that jupyter is running in that session. In a real piece of software, the code would likely be organized into files. \n",
    "\n",
    "For example, consider the checkers example we are working with. We can copy all of the relevant code from that lecture into one file: [checkers.py](./checkers.py). \n",
    "\n",
    "Now we can run the checkers game by \"importing\" the checkers \"module\":"
   ]
  },
  {
   "cell_type": "code",
   "execution_count": null,
   "metadata": {},
   "outputs": [],
   "source": [
    "import checkers"
   ]
  },
  {
   "cell_type": "markdown",
   "metadata": {},
   "source": [
    "We now have an \"checkers\" object in our current context:"
   ]
  },
  {
   "cell_type": "code",
   "execution_count": null,
   "metadata": {},
   "outputs": [],
   "source": [
    "print(checkers)\n",
    "print(type(checkers))"
   ]
  },
  {
   "cell_type": "markdown",
   "metadata": {},
   "source": [
    "We can see the contents of the module using the `dir` built-in:"
   ]
  },
  {
   "cell_type": "code",
   "execution_count": null,
   "metadata": {},
   "outputs": [],
   "source": [
    "dir(checkers)"
   ]
  },
  {
   "cell_type": "markdown",
   "metadata": {},
   "source": [
    "Note that calling `dir()` without an argument will show you everything in your current context:"
   ]
  },
  {
   "cell_type": "code",
   "execution_count": null,
   "metadata": {},
   "outputs": [],
   "source": [
    "x=1\n",
    "dir()"
   ]
  },
  {
   "cell_type": "markdown",
   "metadata": {},
   "source": [
    "To call something from the checkers module, we simply do, for example:"
   ]
  },
  {
   "cell_type": "code",
   "execution_count": null,
   "metadata": {},
   "outputs": [],
   "source": [
    "checkers.make_game_board()"
   ]
  },
  {
   "cell_type": "markdown",
   "metadata": {},
   "source": [
    "This may be combersome, so we can import a specific part of the checkers into our current context:"
   ]
  },
  {
   "cell_type": "code",
   "execution_count": null,
   "metadata": {},
   "outputs": [],
   "source": [
    "from checkers import make_game_board\n",
    "print(make_game_board())\n",
    "dir()"
   ]
  },
  {
   "cell_type": "markdown",
   "metadata": {},
   "source": [
    "We can rename what we import in our current context:"
   ]
  },
  {
   "cell_type": "code",
   "execution_count": null,
   "metadata": {},
   "outputs": [],
   "source": [
    "from checkers import moves as checkers_moves\n",
    "print(checkers_moves)"
   ]
  },
  {
   "cell_type": "markdown",
   "metadata": {},
   "source": [
    "Or we can import everything into our current context using `*`:"
   ]
  },
  {
   "cell_type": "code",
   "execution_count": null,
   "metadata": {},
   "outputs": [],
   "source": [
    "from checkers import *\n",
    "dir()"
   ]
  },
  {
   "cell_type": "markdown",
   "metadata": {},
   "source": [
    "## Reloading Modules\n",
    "\n",
    "Note that you can change contents of the libraries that you load:"
   ]
  },
  {
   "cell_type": "code",
   "execution_count": null,
   "metadata": {},
   "outputs": [],
   "source": [
    "checkers.size=10"
   ]
  },
  {
   "cell_type": "code",
   "execution_count": null,
   "metadata": {},
   "outputs": [],
   "source": [
    "print(checkers.size)"
   ]
  },
  {
   "cell_type": "code",
   "execution_count": null,
   "metadata": {},
   "outputs": [],
   "source": [
    "checkers.get_size()"
   ]
  },
  {
   "cell_type": "markdown",
   "metadata": {},
   "source": [
    "In general this isn't good practice. But it does illustrate an important python behavior. \n",
    "\n",
    "`import` does not load a library again if it has already been loaded:"
   ]
  },
  {
   "cell_type": "code",
   "execution_count": null,
   "metadata": {},
   "outputs": [],
   "source": [
    "import checkers"
   ]
  },
  {
   "cell_type": "code",
   "execution_count": null,
   "metadata": {},
   "outputs": [],
   "source": [
    "print(checkers.size)"
   ]
  },
  {
   "cell_type": "code",
   "execution_count": null,
   "metadata": {},
   "outputs": [],
   "source": [
    "checkers.get_size()"
   ]
  },
  {
   "cell_type": "markdown",
   "metadata": {},
   "source": [
    "However, you can explicitly reload libraries if needed:"
   ]
  },
  {
   "cell_type": "code",
   "execution_count": null,
   "metadata": {},
   "outputs": [],
   "source": [
    "import importlib\n",
    "importlib.reload(checkers)\n",
    "checkers.size"
   ]
  },
  {
   "cell_type": "code",
   "execution_count": null,
   "metadata": {},
   "outputs": [],
   "source": [
    "checkers.size"
   ]
  },
  {
   "cell_type": "code",
   "execution_count": null,
   "metadata": {},
   "outputs": [],
   "source": [
    "checkers.get_size()"
   ]
  },
  {
   "cell_type": "markdown",
   "metadata": {},
   "source": [
    "## Recursion\n",
    "\n",
    "At the end of today's lecture we'll use a tree search algorithm to implement a computer checks player. We'll use recursion to tackle that problem, so lets take a bit of time to go over recursion. \n",
    "\n",
    "A recursive function is one that calls itself. There are certain algorithms or computations that are simpler to express recursively. For example factorial:\n",
    "\n",
    "$$\n",
    "n! = n \\cdot (n-1)\\cdot(n-2)\\cdot ...\\cdot 2 \\cdot  1\n",
    "$$\n",
    "\n",
    "We express factorial recursively by realizing that $n! =  n \\cdot (n-1)!$ and $1! = 1$.\n",
    "\n",
    "Lets code it up:"
   ]
  },
  {
   "cell_type": "code",
   "execution_count": null,
   "metadata": {},
   "outputs": [],
   "source": [
    "def factorial(n):\n",
    "    if n == 1:\n",
    "        return 1\n",
    "    else:\n",
    "        return n * factorial(n-1)"
   ]
  },
  {
   "cell_type": "code",
   "execution_count": null,
   "metadata": {},
   "outputs": [],
   "source": [
    "factorial(50)"
   ]
  },
  {
   "cell_type": "markdown",
   "metadata": {},
   "source": [
    "We can see how python is peforming the computation by not performing the multiplication simply keeping what is multiplied in a tuple:"
   ]
  },
  {
   "cell_type": "code",
   "execution_count": null,
   "metadata": {},
   "outputs": [],
   "source": [
    "def factorial_0(n):\n",
    "    if n == 1:\n",
    "        return 1\n",
    "    else:\n",
    "        return (n , factorial_0(n-1))"
   ]
  },
  {
   "cell_type": "code",
   "execution_count": null,
   "metadata": {},
   "outputs": [],
   "source": [
    "factorial_0(5)"
   ]
  },
  {
   "cell_type": "markdown",
   "metadata": {},
   "source": [
    "Note that you don't need to use recursion to compute factorial:"
   ]
  },
  {
   "cell_type": "code",
   "execution_count": null,
   "metadata": {},
   "outputs": [],
   "source": [
    "def factorial_1(n):\n",
    "    prod = 1\n",
    "    for e in range(1,n+1):\n",
    "        prod*=e  \n",
    "    return prod\n",
    "\n",
    "factorial_1(50)"
   ]
  },
  {
   "cell_type": "markdown",
   "metadata": {},
   "source": [
    "But sometimes it's much simpler to think through the implemenation recursively."
   ]
  },
  {
   "cell_type": "markdown",
   "metadata": {},
   "source": [
    "### Loops in recursion\n",
    "There are various ways to implement loops recursively, for example:"
   ]
  },
  {
   "cell_type": "code",
   "execution_count": null,
   "metadata": {},
   "outputs": [],
   "source": [
    "def countdown(n):\n",
    "     print(n)\n",
    "     if n == 0:\n",
    "         return             # Terminate recursion\n",
    "     else:\n",
    "         countdown(n - 1)   # Recursive call\n",
    "countdown(10)"
   ]
  },
  {
   "cell_type": "markdown",
   "metadata": {},
   "source": [
    "Here is an implementation of python's `range` function using recursion:"
   ]
  },
  {
   "cell_type": "code",
   "execution_count": null,
   "metadata": {},
   "outputs": [],
   "source": [
    "def rec_range(start,stop=None,step=1):\n",
    "    # Properly handle default arguments\n",
    "    if stop:\n",
    "       pass\n",
    "    else:\n",
    "        stop=start\n",
    "        start=0\n",
    "        \n",
    "    if start < stop:\n",
    "        return [start] + rec_range(start+step,stop,step)\n",
    "    else:\n",
    "        return []"
   ]
  },
  {
   "cell_type": "code",
   "execution_count": null,
   "metadata": {},
   "outputs": [],
   "source": [
    "rec_range(2,20,2)"
   ]
  },
  {
   "cell_type": "markdown",
   "metadata": {},
   "source": [
    "### More recursive examples\n",
    "Another algorithm that is often implemented recursively is the Fibonacci sequence $F_0=0$, $F_1=1$, $F_n = F_{n-1} + F_{n-2}$. Here an implementation:"
   ]
  },
  {
   "cell_type": "code",
   "execution_count": null,
   "metadata": {},
   "outputs": [],
   "source": [
    "def recur_fibo(n):\n",
    "   if n <= 1:\n",
    "       return n\n",
    "   else:\n",
    "       return(recur_fibo(n-1) + recur_fibo(n-2))"
   ]
  },
  {
   "cell_type": "markdown",
   "metadata": {},
   "source": [
    "Checking for a palindrome:"
   ]
  },
  {
   "cell_type": "code",
   "execution_count": null,
   "metadata": {},
   "outputs": [],
   "source": [
    "def is_palindrome(word):\n",
    "     if len(word) <= 1:\n",
    "         return True\n",
    "     else:\n",
    "         return word[0] == word[-1] and is_palindrome(word[1:-1])"
   ]
  },
  {
   "cell_type": "markdown",
   "metadata": {},
   "source": [
    "### Recursion Limit\n",
    "You should be aware that python had a limit of how many times a function can call itself:"
   ]
  },
  {
   "cell_type": "code",
   "execution_count": null,
   "metadata": {},
   "outputs": [],
   "source": [
    "from sys import getrecursionlimit\n",
    "getrecursionlimit()\n",
    "1000"
   ]
  },
  {
   "cell_type": "markdown",
   "metadata": {},
   "source": [
    "Which you can increase if you need:"
   ]
  },
  {
   "cell_type": "code",
   "execution_count": null,
   "metadata": {},
   "outputs": [],
   "source": [
    "from sys import setrecursionlimit\n",
    "setrecursionlimit(2000)\n",
    "getrecursionlimit()\n",
    "2000"
   ]
  },
  {
   "cell_type": "markdown",
   "metadata": {},
   "source": [
    "### Traversing a Tree\n",
    "The reason we are looking at recursion now, is that is the easiest way to traverse tree-like data structures. Consider the following data structure:"
   ]
  },
  {
   "cell_type": "code",
   "execution_count": null,
   "metadata": {},
   "outputs": [],
   "source": [
    "data = [1 ,[21,22], [23,[31,32]], [[33,34],[35,36]] ]\n",
    "data"
   ]
  },
  {
   "cell_type": "markdown",
   "metadata": {},
   "source": [
    "Imagine you needed to count how many numbers are stored in the structure (aka count the leaves in the tree). How would you do it?\n",
    "\n",
    "Here an approach:\n",
    "* Create a `leaf_count` function that takes a list as argument.\n",
    "* In the function, keep a counter, initialized to 0.\n",
    "* Iterate over the list. \n",
    "    * If you see a number add one to counter.\n",
    "    * If you see a list, call `leaf_count` with that list, add results to counter.\n",
    "* Return the counter value.\n"
   ]
  },
  {
   "cell_type": "code",
   "execution_count": null,
   "metadata": {},
   "outputs": [],
   "source": [
    "def leaf_count(ll):\n",
    "    count = 0\n",
    "    for item in ll:\n",
    "        if isinstance(item, list):\n",
    "            count += leaf_count(item)\n",
    "        else:\n",
    "            count += 1\n",
    "\n",
    "    return count"
   ]
  },
  {
   "cell_type": "code",
   "execution_count": null,
   "metadata": {},
   "outputs": [],
   "source": [
    "leaf_count(data)"
   ]
  },
  {
   "cell_type": "markdown",
   "metadata": {},
   "source": [
    "Performing the same operation non-recursively is much more complicated:"
   ]
  },
  {
   "cell_type": "code",
   "execution_count": null,
   "metadata": {},
   "outputs": [],
   "source": [
    "def leaf_count_non_recursive(ll):\n",
    "    count = 0\n",
    "    stack = []\n",
    "    current_ll = ll\n",
    "    i = 0\n",
    "\n",
    "    while True:\n",
    "        if i == len(current_ll):\n",
    "            if current_ll == ll:\n",
    "                return count\n",
    "            else:\n",
    "                current_ll, i = stack.pop()\n",
    "                i += 1\n",
    "                continue\n",
    "\n",
    "        if isinstance(current_ll[i], list):\n",
    "            stack.append([current_ll, i])\n",
    "            current_ll = current_ll[i]\n",
    "            i = 0\n",
    "        else:\n",
    "            count += 1\n",
    "            i += 1"
   ]
  },
  {
   "cell_type": "code",
   "execution_count": null,
   "metadata": {},
   "outputs": [],
   "source": [
    "leaf_count_non_recursive(data)"
   ]
  },
  {
   "cell_type": "markdown",
   "metadata": {},
   "source": [
    "## Checkers \"AI\" Player"
   ]
  },
  {
   "cell_type": "markdown",
   "metadata": {},
   "source": [
    "Lets now attempt to build a \"AI\" checkers player to play against a human players. There are various ways to construct such a player. \n",
    "\n",
    "One method is to write an algorithm that given a board, considers all possible moves of a player, and selects the best move. However just considering one single move at a time would result in a very dumb algorithm, which for example would fail to detect when a move results in subsequently losing a piece. Therefore, instead of a single move, the algorithm should consider several moves ahead. For every possible move, it should consider every possible response from the other player, and then every possible subsequent move, and so on. All of these possibilities can be organized in a tree. As you can imagine, the number of possbilities grows exponentially as the algorithm attempts to think many moves ahead ... and so does the computational cost. \n",
    "\n",
    "Another method is to use a Machine Learning algorithm that learns from either observing played games or plays against itself or humans. Indeed a technique known as reinforcement learning has been used to create AI players that can beat the best human players in games, such as go, where brute-force tree search algorithms are too computationally prohibitive.\n",
    "\n",
    "For our example here, we will use the first method.\n",
    "\n",
    "First we need to create a means of rating a move. Everytime we consider a move, we score the resulting board and choose the move that gives the best score. An obvious, but not necessarily optimal, choice is to count pieces:\n"
   ]
  },
  {
   "cell_type": "code",
   "execution_count": null,
   "metadata": {},
   "outputs": [],
   "source": [
    "# A scoring function\n",
    "def score_board(board,player):\n",
    "    return count_pieces(board,player)-count_pieces(board,switch_player(player))"
   ]
  },
  {
   "cell_type": "markdown",
   "metadata": {},
   "source": [
    "Next, lets sketch out our algorithm. We need a function that starting from the current board, generates and rates all possible moves up to a depth. Lets think through it. Our algorithm will be recursive, meaning that it will be a function that calls itself. \n",
    "\n",
    "* Function should take as arguments\n",
    "    * the board\n",
    "    * the player who is trying to win\n",
    "    * the player whose turn we are currently considering\n",
    "    * and a max depth.\n",
    "* Function returns a list of moves and scores.\n",
    "    \n",
    "* Algorithm logic: \n",
    "    * If the current depth is 0, we have gone far enough and we are done moving. Score the board.\n",
    "    * Find all pieces for the current player\n",
    "        * For each pieces consider all possible moves (right or left)\n",
    "            * Check if the move is possible, if so\n",
    "                * Keep track of the move (player, location, and direction)\n",
    "                * Consider subseqent moves by recursively calling self.\n",
    "                * Return the chain of moves and scores.\n",
    "                \n",
    "    \n",
    "    "
   ]
  },
  {
   "cell_type": "code",
   "execution_count": null,
   "metadata": {},
   "outputs": [],
   "source": [
    "import copy\n",
    "\n",
    "def generate_moves(board,player,current_player,depth, keep_all_moves=False):\n",
    "    if depth==0:\n",
    "        return list(),score_board(board,player)\n",
    "\n",
    "    moves=list()\n",
    "    scores=list()\n",
    "    \n",
    "    # Look through the board for pieces belonging to a specific player\n",
    "    for i in range(size):\n",
    "        for j in range(size):\n",
    "            if board[i][j]==current_player:\n",
    "                \n",
    "                # For each piece, consider moving left or right\n",
    "                for move in [left_move,right_move]:\n",
    "                    \n",
    "                    # Create a new copy of the board\n",
    "                    new_board=copy.deepcopy(board)\n",
    "                    \n",
    "                    # Check if its a valid move\n",
    "                    if move_piece(new_board,current_player,(i,j),move,verbose=False):\n",
    "                        # If so, generate subsequent moves\n",
    "                        next_moves,score=generate_moves(new_board,player,\n",
    "                                                        switch_player(current_player),\n",
    "                                                        depth-1,\n",
    "                                                        keep_all_moves=keep_all_moves)\n",
    "                        \n",
    "                        # Keep track of this move\n",
    "                        this_move=[(current_player,(i,j),move)]\n",
    "                        if keep_all_moves:\n",
    "                            # For our purposes, we usually only need to keep the top move!\n",
    "                            this_move.extend(next_moves)\n",
    "                        moves.append(this_move)\n",
    "                        scores.append(score)\n",
    "\n",
    "    return moves,scores\n",
    "            \n"
   ]
  },
  {
   "cell_type": "markdown",
   "metadata": {},
   "source": [
    "### Quick side on use of `deepcopy`\n",
    "\n",
    "Note that we used `copy.deepcopy` here to make copies of the board. The reason for this that python lists just keep references to their data. If we copy a list, we copy the references. Deep copy results in copies of all references also. Consider the following examples."
   ]
  },
  {
   "cell_type": "code",
   "execution_count": null,
   "metadata": {},
   "outputs": [],
   "source": [
    "# Assignment doesn't work\n",
    "x = [[1,2],[2,3]]\n",
    "y = x\n",
    "y[0][1]=-1\n",
    "x"
   ]
  },
  {
   "cell_type": "code",
   "execution_count": null,
   "metadata": {},
   "outputs": [],
   "source": [
    "# Copy works, but ...\n",
    "x = [1,2,3]\n",
    "y = copy.copy(x)\n",
    "y[0]=-1\n",
    "x"
   ]
  },
  {
   "cell_type": "code",
   "execution_count": null,
   "metadata": {},
   "outputs": [],
   "source": [
    "# Copy doesn't work for nested lists\n",
    "x = [[1,2],[2,3]]\n",
    "y = copy.copy(x)\n",
    "y[0][1]=-1\n",
    "x"
   ]
  },
  {
   "cell_type": "code",
   "execution_count": null,
   "metadata": {},
   "outputs": [],
   "source": [
    "# Why use deep copy?\n",
    "x = [[1,2],[2,3]]\n",
    "y = copy.deepcopy(x)\n",
    "y[0][1]=-1\n",
    "x"
   ]
  },
  {
   "cell_type": "markdown",
   "metadata": {},
   "source": [
    "### Test `generate_moves`\n",
    "\n",
    "Lets see what generate moves does. Lets make a board:"
   ]
  },
  {
   "cell_type": "code",
   "execution_count": null,
   "metadata": {},
   "outputs": [],
   "source": [
    "from checkers import *\n",
    "board=make_game_board()\n",
    "draw_board(board)"
   ]
  },
  {
   "cell_type": "markdown",
   "metadata": {},
   "source": [
    "Now create all possible first moves for player 1, scoring to depth of 1. Well keep all subsequent moves so we can see them."
   ]
  },
  {
   "cell_type": "code",
   "execution_count": null,
   "metadata": {},
   "outputs": [],
   "source": [
    "possible_moves,scores=generate_moves(board,player_1,player_1,1,keep_all_moves=True)"
   ]
  },
  {
   "cell_type": "markdown",
   "metadata": {},
   "source": [
    "Here are the possible moves:"
   ]
  },
  {
   "cell_type": "code",
   "execution_count": null,
   "metadata": {},
   "outputs": [],
   "source": [
    "possible_moves"
   ]
  },
  {
   "cell_type": "markdown",
   "metadata": {},
   "source": [
    "We see seven possible first moves. Lets increase depth to see what happens:"
   ]
  },
  {
   "cell_type": "code",
   "execution_count": null,
   "metadata": {},
   "outputs": [],
   "source": [
    "possible_moves,scores=generate_moves(board,player_1,player_1,2,keep_all_moves=True)"
   ]
  },
  {
   "cell_type": "code",
   "execution_count": null,
   "metadata": {
    "scrolled": true
   },
   "outputs": [],
   "source": [
    "possible_moves"
   ]
  },
  {
   "cell_type": "markdown",
   "metadata": {},
   "source": [
    "We see that for each of the seven first moves, there are seven responses by the other player.\n",
    "\n",
    "Now lets look at the associated scores (remember depth is 2):"
   ]
  },
  {
   "cell_type": "code",
   "execution_count": null,
   "metadata": {},
   "outputs": [],
   "source": [
    "scores"
   ]
  },
  {
   "cell_type": "markdown",
   "metadata": {},
   "source": [
    "For each of the seven first moves and seven responses, no pieces are taken, so score is 0 in all scenarios.\n",
    "\n",
    "Lets increase depth to 3 and see what happens:"
   ]
  },
  {
   "cell_type": "code",
   "execution_count": null,
   "metadata": {
    "scrolled": true
   },
   "outputs": [],
   "source": [
    "possible_moves,scores=generate_moves(board,player_1,player_1,3,keep_all_moves=True)\n",
    "scores"
   ]
  },
  {
   "cell_type": "markdown",
   "metadata": {},
   "source": [
    "Now we see that there are several first moves that could result in a positive score, if the other player moves a bad move.\n",
    "\n",
    "Lets look at depth 5:"
   ]
  },
  {
   "cell_type": "code",
   "execution_count": null,
   "metadata": {
    "scrolled": true
   },
   "outputs": [],
   "source": [
    "possible_moves,scores=generate_moves(board,player_1,player_1,5)\n",
    "scores"
   ]
  },
  {
   "cell_type": "markdown",
   "metadata": {},
   "source": [
    "### Selecting a move\n",
    "\n",
    "We now need to come up with an algorithm that looks at all these scenarios and selects one. The number of possibilities is large. Some chain of moves are inconsequential (0 score), while others are great (>0 score) or horrible (<0 score). Some chains result in a good/bad outcome sooner than others, and it makes sense the weigh them accordingly. Here is a proposal of how to weigh the possbilities and create score:\n",
    "\n",
    "* At the end of the chain of moves, consider the worst and best scenarios.\n",
    "* Otherwise, sum score over all possbilities, weighing each by the depth\n",
    "\n",
    "Here is a recursive implementation of this algorithm:"
   ]
  },
  {
   "cell_type": "code",
   "execution_count": null,
   "metadata": {},
   "outputs": [],
   "source": [
    "def tree_search_0(t,depth=1):\n",
    "    if isinstance(t[0],list):\n",
    "        return sum([tree_search(item,depth+1)/depth for item in t])\n",
    "    else:\n",
    "        return sum(t)\n",
    "    \n",
    "def tree_search(t,depth=1):\n",
    "    if isinstance(t[0],list):\n",
    "        return sum([tree_search(item,depth+1)/depth for item in t])\n",
    "    else:\n",
    "        return max(t)+min(t)"
   ]
  },
  {
   "cell_type": "markdown",
   "metadata": {},
   "source": [
    "Quick test:"
   ]
  },
  {
   "cell_type": "code",
   "execution_count": null,
   "metadata": {},
   "outputs": [],
   "source": [
    "list(map(tree_search,scores))"
   ]
  },
  {
   "cell_type": "markdown",
   "metadata": {},
   "source": [
    "Finally a function to put it all together and select a move:"
   ]
  },
  {
   "cell_type": "code",
   "execution_count": null,
   "metadata": {},
   "outputs": [],
   "source": [
    "def pick_move(board,player,depth=5,func=max):\n",
    "    moves,scores=generate_moves(board,player,player,depth)\n",
    "    result=list(map(tree_search,scores))\n",
    "    move_index=result.index(func(result))\n",
    "    return moves[move_index][0]"
   ]
  },
  {
   "cell_type": "markdown",
   "metadata": {},
   "source": [
    "Lets test:"
   ]
  },
  {
   "cell_type": "code",
   "execution_count": null,
   "metadata": {},
   "outputs": [],
   "source": [
    "pick_move(board,player_1)"
   ]
  },
  {
   "cell_type": "markdown",
   "metadata": {},
   "source": [
    "Finally put it all together:"
   ]
  },
  {
   "cell_type": "code",
   "execution_count": null,
   "metadata": {},
   "outputs": [],
   "source": [
    "def checkers_game_AI(depth=5):\n",
    "    \n",
    "    print (\"Welcome to Checkers.\")\n",
    "    print (\"--------------------\")\n",
    "\n",
    "    # Make a game board\n",
    "    board_0=make_game_board()\n",
    "    \n",
    "    # Start with player 1\n",
    "    player=player_1\n",
    "    \n",
    "    this_game_won=False\n",
    "    while not this_game_won:\n",
    "        # Draw the board\n",
    "        draw_board(board_0)\n",
    "        \n",
    "        # Make a move\n",
    "        if player==player_1:\n",
    "            print(\"Player\",player,\"move:\")\n",
    "            take_move(board_0,player)\n",
    "        else:\n",
    "            the_move=pick_move(board_0,player_2,depth=depth)\n",
    "            #print(the_move)\n",
    "            move_piece(board_0,*the_move)\n",
    "            \n",
    "        # Check if the game has been won\n",
    "        this_game_won=game_won(board_0)\n",
    "\n",
    "       # Switch players\n",
    "        player=switch_player(player)          \n",
    "\n",
    "    print(\"Player 1 Pieces:\", count_pieces(board_0,player_1))\n",
    "    print(\"Player 2 Pieces:\", count_pieces(board_0,player_2))\n",
    "    \n",
    "    if this_game_won:\n",
    "        print(\"Winner is player:\",this_game_won)"
   ]
  },
  {
   "cell_type": "code",
   "execution_count": null,
   "metadata": {},
   "outputs": [],
   "source": [
    "checkers_game_AI()\n"
   ]
  },
  {
   "cell_type": "code",
   "execution_count": null,
   "metadata": {},
   "outputs": [],
   "source": []
  }
 ],
 "metadata": {
  "kernelspec": {
   "display_name": "Python 3",
   "language": "python",
   "name": "python3"
  },
  "language_info": {
   "codemirror_mode": {
    "name": "ipython",
    "version": 3
   },
   "file_extension": ".py",
   "mimetype": "text/x-python",
   "name": "python",
   "nbconvert_exporter": "python",
   "pygments_lexer": "ipython3",
   "version": "3.8.0"
  }
 },
 "nbformat": 4,
 "nbformat_minor": 2
}
